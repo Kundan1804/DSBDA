{
 "cells": [
  {
   "cell_type": "code",
   "execution_count": null,
   "id": "2736b8cf",
   "metadata": {},
   "outputs": [],
   "source": [
    "import pandas as pd\n",
    "import matplotlib.pyplot as plt\n",
    "import string\n",
    "import re\n",
    "import nltk\n",
    "from nltk.corpus import stopwords\n",
    "from nltk.tokenize import word_tokenize\n",
    "from nltk.stem import PorterStemmer, WordNetLemmatizer\n",
    "from sklearn.feature_extraction.text import CountVectorizer, TfidfVectorizer\n",
    "nltk.download('omw-1.4')\n",
    "pd.set_option('display.max_columns', None)\n",
    "pd.set_option('display.max_colwidth', None)"
   ]
  },
  {
   "cell_type": "code",
   "execution_count": null,
   "id": "53c12fee",
   "metadata": {},
   "outputs": [],
   "source": [
    "df=pd.read_csv('AmazonAlexa_Reviews.csv')"
   ]
  },
  {
   "cell_type": "code",
   "execution_count": null,
   "id": "3fdedf4a",
   "metadata": {},
   "outputs": [],
   "source": [
    "df"
   ]
  },
  {
   "cell_type": "code",
   "execution_count": null,
   "id": "a0b07d31",
   "metadata": {},
   "outputs": [],
   "source": [
    "# I. Plot a graph of Positive and Negative Feedback\n",
    "feedback_counts = df['feedback'].value_counts()\n",
    "feedback_counts.plot(kind='bar')\n",
    "plt.xlabel('Feedback')\n",
    "plt.ylabel('Count')\n",
    "plt.title('Positive and Negative Feedback')\n",
    "plt.show()\n"
   ]
  },
  {
   "cell_type": "code",
   "execution_count": null,
   "id": "996d5fa8",
   "metadata": {},
   "outputs": [],
   "source": [
    "# II. Convert the review text into lowercase\n",
    "df['verified_reviews'] = df['verified_reviews'].str.lower()\n",
    "df['verified_reviews']"
   ]
  },
  {
   "cell_type": "code",
   "execution_count": null,
   "id": "80da0bf6",
   "metadata": {},
   "outputs": [],
   "source": [
    "# III. Remove all punctuations from review text\n",
    "df['verified_reviews'] = df['verified_reviews'].apply(lambda x: x.translate(str.maketrans('', '', string.punctuation)))\n",
    "df['verified_reviews']"
   ]
  },
  {
   "cell_type": "code",
   "execution_count": null,
   "id": "77f8dfdb",
   "metadata": {},
   "outputs": [],
   "source": [
    "# IV. Remove emoticons and emojis from the text\n",
    "def remove_emoticons(text):\n",
    "    emoticon_pattern = re.compile(\n",
    "        \"[\"\n",
    "        u\"\\U0001F600-\\U0001F64F\"  # emoticons\n",
    "        u\"\\U0001F300-\\U0001F5FF\"  # symbols & pictographs\n",
    "        u\"\\U0001F680-\\U0001F6FF\"  # transport & map symbols\n",
    "        u\"\\U0001F1E0-\\U0001F1FF\"  # flags (iOS)\n",
    "        u\"\\U00002500-\\U00002BEF\"  # chinese char\n",
    "        u\"\\U00002702-\\U000027B0\"\n",
    "        u\"\\U00002702-\\U000027B0\"\n",
    "        u\"\\U000024C2-\\U0001F251\"\n",
    "        u\"\\U0001f926-\\U0001f937\"\n",
    "        u\"\\U00010000-\\U0010ffff\"\n",
    "        u\"\\u2640-\\u2642\"\n",
    "        u\"\\u2600-\\u2B55\"\n",
    "        u\"\\u200d\"\n",
    "        u\"\\u23cf\"\n",
    "        u\"\\u23e9\"\n",
    "        u\"\\u231a\"\n",
    "        u\"\\ufe0f\"  # dingbats\n",
    "        u\"\\u3030\"\n",
    "        \"]+\", flags=re.UNICODE)\n",
    "    return emoticon_pattern.sub(r'', text)\n",
    "\n",
    "df['verified_reviews'] = df['verified_reviews'].apply(remove_emoticons)\n",
    "df['verified_reviews']"
   ]
  },
  {
   "cell_type": "code",
   "execution_count": null,
   "id": "9ff2fbc7",
   "metadata": {},
   "outputs": [],
   "source": [
    "# V. Tokenize the review text into words\n",
    "df['verified_reviews'] = df['verified_reviews'].apply(word_tokenize)\n",
    "df['verified_reviews']"
   ]
  },
  {
   "cell_type": "code",
   "execution_count": null,
   "id": "671462fa",
   "metadata": {},
   "outputs": [],
   "source": [
    "# VI. Remove the Stopwords from the tokenized text\n",
    "stop_words = set(stopwords.words('english'))\n",
    "df['verified_reviews'] = df['verified_reviews'].apply(lambda x: [word for word in x if word not in stop_words])\n",
    "df['verified_reviews']"
   ]
  },
  {
   "cell_type": "code",
   "execution_count": null,
   "id": "bdf91677",
   "metadata": {},
   "outputs": [],
   "source": [
    "# IV. Perform stemming & lemmatization on the review text\n",
    "stemmer = PorterStemmer()\n",
    "lemmatizer = WordNetLemmatizer()\n",
    "df['verified_reviews'] = df['verified_reviews'].apply(lambda x: [stemmer.stem(word) for word in x])\n",
    "df['verified_reviews'] = df['verified_reviews'].apply(lambda x: [lemmatizer.lemmatize(word) for word in x])\n",
    "df['verified_reviews']\n"
   ]
  },
  {
   "cell_type": "code",
   "execution_count": null,
   "id": "c6ada4e7",
   "metadata": {},
   "outputs": [],
   "source": [
    "\n",
    "# V. Perform word vectorization on review text using Bag of Words technique\n",
    "vectorizer = CountVectorizer()\n",
    "bow_matrix = vectorizer.fit_transform(df['verified_reviews'].apply(lambda x: ' '.join(x)))\n",
    "bow_df = pd.DataFrame(bow_matrix.toarray(), columns=vectorizer.get_feature_names())\n",
    "bow_df"
   ]
  },
  {
   "cell_type": "code",
   "execution_count": null,
   "id": "f02a06a3",
   "metadata": {},
   "outputs": [],
   "source": [
    "\n",
    "# VI. Create representation of Review Text by calculating Term Frequency and Inverse Document Frequency (TF-IDF)\n",
    "tfidf_vectorizer = TfidfVectorizer()\n",
    "tfidf_matrix = tfidf_vectorizer.fit_transform(df['verified_reviews'].apply(lambda x: ' '.join(x)))\n",
    "tfidf_df = pd.DataFrame(tfidf_matrix.toarray(), columns=tfidf_vectorizer.get_feature_names())\n",
    "tfidf_df.head(1)"
   ]
  },
  {
   "cell_type": "code",
   "execution_count": null,
   "id": "da9bc607",
   "metadata": {},
   "outputs": [],
   "source": []
  },
  {
   "cell_type": "code",
   "execution_count": null,
   "id": "8a6dff03",
   "metadata": {},
   "outputs": [],
   "source": []
  }
 ],
 "metadata": {
  "kernelspec": {
   "display_name": "Python 3 (ipykernel)",
   "language": "python",
   "name": "python3"
  },
  "language_info": {
   "codemirror_mode": {
    "name": "ipython",
    "version": 3
   },
   "file_extension": ".py",
   "mimetype": "text/x-python",
   "name": "python",
   "nbconvert_exporter": "python",
   "pygments_lexer": "ipython3",
   "version": "3.9.12"
  }
 },
 "nbformat": 4,
 "nbformat_minor": 5
}
