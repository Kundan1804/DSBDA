{
  "cells": [
    {
      "cell_type": "code",
      "execution_count": null,
      "metadata": {
        "id": "mjMcHKHirvBh"
      },
      "outputs": [],
      "source": [
        "import pandas as pd\n",
        "import numpy as np\n",
        "import string\n",
        "import re\n",
        "import nltk\n",
        "from nltk.corpus import stopwords\n",
        "from nltk.stem.porter import PorterStemmer\n",
        "from nltk.stem import WordNetLemmatizer\n",
        "from sklearn.feature_extraction.text import TfidfVectorizer"
      ]
    },
    {
      "cell_type": "code",
      "execution_count": null,
      "metadata": {
        "colab": {
          "base_uri": "https://localhost:8080/",
          "height": 206
        },
        "id": "5H8fE5xFtIy2",
        "outputId": "3090dd1d-92d0-4244-aee6-f3ea22d91763"
      },
      "outputs": [],
      "source": [
        "df = pd.read_csv('AmazonAlexa_Reviews.csv')\n",
        "df.head()"
      ]
    },
    {
      "cell_type": "code",
      "execution_count": null,
      "metadata": {
        "id": "EVsvGwMNtOzh"
      },
      "outputs": [],
      "source": [
        "reviews=df.drop(['rating','date','variation','feedback'], axis=1)"
      ]
    },
    {
      "cell_type": "code",
      "execution_count": null,
      "metadata": {
        "colab": {
          "base_uri": "https://localhost:8080/",
          "height": 206
        },
        "id": "ijseNqw2tt0g",
        "outputId": "a1bcb547-bfb3-4869-aab4-e438ce0203a2"
      },
      "outputs": [],
      "source": [
        "reviews_lc = reviews.apply(lambda x: x.astype(str).str.lower())\n",
        "reviews_lc.head()"
      ]
    },
    {
      "cell_type": "code",
      "execution_count": null,
      "metadata": {
        "colab": {
          "base_uri": "https://localhost:8080/"
        },
        "id": "BsGCGYn5vKqG",
        "outputId": "5abe0046-c688-4cd5-dad5-6c4673372878"
      },
      "outputs": [],
      "source": [
        "df['new reviews']=reviews_lc\n",
        "def rem_punc(text):\n",
        "  punc_free = ''.join([i for i in text if i not in string.punctuation])\n",
        "  return punc_free\n",
        "df['cleaned reviews']=df['new reviews'].apply(lambda text: rem_punc(text))\n",
        "df['cleaned reviews'].head()"
      ]
    },
    {
      "cell_type": "code",
      "execution_count": null,
      "metadata": {
        "colab": {
          "base_uri": "https://localhost:8080/"
        },
        "id": "0lldUeZ3x6Zs",
        "outputId": "19bad4b9-5c79-49ba-bb33-f25420a8dd01"
      },
      "outputs": [],
      "source": [
        "def tokenize(text):\n",
        "  tokens = re.split('W+', text)\n",
        "  return tokens\n",
        "\n",
        "df['reviews tokenized']=df['cleaned reviews'].apply(lambda x: tokenize(x))\n",
        "df['reviews tokenized'].head()"
      ]
    },
    {
      "cell_type": "code",
      "execution_count": null,
      "metadata": {
        "colab": {
          "base_uri": "https://localhost:8080/",
          "height": 175
        },
        "id": "2eMstGIDyDCv",
        "outputId": "94593625-7c69-415c-da46-75d14ec3b794"
      },
      "outputs": [],
      "source": [
        "nltk.download('stopwords')\n",
        "', '.join(stopwords.words('english'))"
      ]
    },
    {
      "cell_type": "code",
      "execution_count": null,
      "metadata": {
        "colab": {
          "base_uri": "https://localhost:8080/"
        },
        "id": "Z_RUKCIb4M8N",
        "outputId": "8c3b6742-ca89-4446-b569-d2e5238102de"
      },
      "outputs": [],
      "source": [
        "sw = set(stopwords.words('english'))\n",
        "def rem_sw(text):\n",
        "  sw_free = ' '.join([word for word in str(text).split() if word not in sw])\n",
        "  return sw_free\n",
        "df['wo stop']=df['reviews tokenized'].apply(lambda x: rem_sw(x))\n",
        "df['wo stop'].head()"
      ]
    },
    {
      "cell_type": "code",
      "execution_count": null,
      "metadata": {
        "colab": {
          "base_uri": "https://localhost:8080/"
        },
        "id": "yTkwCvqk52F2",
        "outputId": "4bf7776d-c4ac-43a0-e3a0-360504ed746c"
      },
      "outputs": [],
      "source": [
        "stemmer = PorterStemmer()\n",
        "def stem_words(text):\n",
        "  stemmed_text = ' '.join([stemmer.stem(word) for word in text.split()])\n",
        "  return stemmed_text\n",
        "df['stemmed review']=df['wo stop'].apply(lambda x: stem_words(x))\n",
        "df['stemmed review'].head()"
      ]
    },
    {
      "cell_type": "code",
      "execution_count": null,
      "metadata": {
        "colab": {
          "base_uri": "https://localhost:8080/"
        },
        "id": "HISARNaR7ZDc",
        "outputId": "7e9c9ea4-2cee-460d-cce6-cafee6202d89"
      },
      "outputs": [],
      "source": [
        "nltk.download('wordnet')\n",
        "lemmatizer = WordNetLemmatizer()\n",
        "def lemm_words(text):\n",
        "  return ' '.join([lemmatizer.lemmatize(word) for word in text.split()])\n",
        "\n",
        "df['lemmatized review']=df['wo stop'].apply(lambda x: lemm_words(x))\n",
        "df['lemmatized review'].head()"
      ]
    },
    {
      "cell_type": "code",
      "execution_count": null,
      "metadata": {
        "colab": {
          "base_uri": "https://localhost:8080/"
        },
        "id": "4f1l6yUZM8wG",
        "outputId": "6b359117-517e-47d2-89eb-9202aeaaac54"
      },
      "outputs": [],
      "source": [
        "nltk.download('punkt')\n",
        "nltk.download('averaged_perceptron_tagger')\n",
        "\n",
        "sentence = 'This is an example sentence for pos'\n",
        "tokens = nltk.word_tokenize(sentence)\n",
        "tagged = nltk.pos_tag(tokens)\n",
        "print(tagged)"
      ]
    },
    {
      "cell_type": "code",
      "execution_count": null,
      "metadata": {
        "colab": {
          "base_uri": "https://localhost:8080/"
        },
        "id": "k-N-VSWMN6t_",
        "outputId": "18fee184-868b-479e-e18d-cdffc5b020b1"
      },
      "outputs": [],
      "source": [
        "def process_content():\n",
        "  for i in df['wo stop']:\n",
        "    words = nltk.word_tokenize(i)\n",
        "    tagged = nltk.pos_tag(words)\n",
        "    return tagged\n",
        "\n",
        "process_content()"
      ]
    },
    {
      "cell_type": "code",
      "execution_count": null,
      "metadata": {
        "colab": {
          "base_uri": "https://localhost:8080/"
        },
        "id": "onxpfB8lOZJ9",
        "outputId": "8fef53d9-8d90-4683-db83-cfce5c28d220"
      },
      "outputs": [],
      "source": [
        "def rem_url(text):\n",
        "  url_pattern = re.compile(r'https?://\\S+|www\\.\\S+')\n",
        "  return url_pattern.sub(r'', text)\n",
        "df['url removed']=df['wo stop'].apply(lambda x: rem_url(x))\n",
        "df['url removed'].head()"
      ]
    },
    {
      "cell_type": "code",
      "execution_count": null,
      "metadata": {
        "colab": {
          "base_uri": "https://localhost:8080/"
        },
        "id": "ZxRQ5R8aPPhD",
        "outputId": "d8f95acf-2a7e-404c-d3f9-8beaa4da5ed8"
      },
      "outputs": [],
      "source": [
        "tfidf = TfidfVectorizer()\n",
        "data_tf=tfidf.fit_transform(df['wo stop'])\n",
        "data_tf"
      ]
    },
    {
      "cell_type": "code",
      "execution_count": null,
      "metadata": {
        "colab": {
          "base_uri": "https://localhost:8080/"
        },
        "id": "Uo6i3el2QOYS",
        "outputId": "c0dbfce2-2fcf-457c-8c62-818aaa6f98a8"
      },
      "outputs": [],
      "source": [
        "print(data_tf)"
      ]
    },
    {
      "cell_type": "code",
      "execution_count": null,
      "metadata": {
        "id": "sYo_OVrvQWwH"
      },
      "outputs": [],
      "source": []
    }
  ],
  "metadata": {
    "colab": {
      "provenance": []
    },
    "kernelspec": {
      "display_name": "Python 3",
      "name": "python3"
    },
    "language_info": {
      "name": "python"
    }
  },
  "nbformat": 4,
  "nbformat_minor": 0
}
